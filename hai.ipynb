{
 "cells": [
  {
   "cell_type": "markdown",
   "metadata": {},
   "source": [
    "# Conditional"
   ]
  },
  {
   "cell_type": "markdown",
   "metadata": {},
   "source": [
    "## Basic syntax"
   ]
  },
  {
   "cell_type": "code",
   "execution_count": 14,
   "metadata": {},
   "outputs": [
    {
     "name": "stdout",
     "output_type": "stream",
     "text": [
      "<class 'int'>\n",
      "beda g*bl*k\n"
     ]
    }
   ],
   "source": [
    "# var1 = 10\n",
    "var2 = 20\n",
    "\n",
    "var1 = input('coba masukan angka untuk var1: ')\n",
    "print(type(int(var1)))\n",
    "if int(var1) == var2:\n",
    "    print('sama lah')\n",
    "else:\n",
    "    print(\"beda g*bl*k\")"
   ]
  },
  {
   "cell_type": "code",
   "execution_count": 13,
   "metadata": {},
   "outputs": [
    {
     "name": "stdout",
     "output_type": "stream",
     "text": [
      "asu\n"
     ]
    }
   ],
   "source": [
    "# print('asu')"
   ]
  },
  {
   "cell_type": "code",
   "execution_count": null,
   "metadata": {},
   "outputs": [],
   "source": []
  },
  {
   "cell_type": "code",
   "execution_count": 23,
   "metadata": {},
   "outputs": [
    {
     "name": "stdout",
     "output_type": "stream",
     "text": [
      "anjay gede\n"
     ]
    }
   ],
   "source": [
    "var2 = 20\n",
    "var1 = int(input('coba masukan angka untuk var1: '))\n",
    "\n",
    "if int(var1) == var2:\n",
    "    print('sama lah')\n",
    "elif var1 > var2:\n",
    "    print(\"anjay gede\")\n",
    "\n",
    "elif var1 < var2:\n",
    "    print('kasian')\n",
    "\n",
    "else:\n",
    "    print(\"beda g*bl*k\")"
   ]
  },
  {
   "cell_type": "code",
   "execution_count": 27,
   "metadata": {},
   "outputs": [
    {
     "name": "stdout",
     "output_type": "stream",
     "text": [
      "hurufnya kurang\n"
     ]
    }
   ],
   "source": [
    "full_name = input('masukan nama user:') \n",
    "\n",
    "if len(full_name) > 6:\n",
    "    #cek apakah nama mengandung huruf a\n",
    "    if 'a' in full_name:\n",
    "        print('ada')\n",
    "\n",
    "    else:\n",
    "        print('gak ada')\n",
    "\n",
    "else:\n",
    "    print('hurufnya kurang')"
   ]
  },
  {
   "cell_type": "markdown",
   "metadata": {},
   "source": [
    "## loop"
   ]
  },
  {
   "cell_type": "code",
   "execution_count": 4,
   "metadata": {},
   "outputs": [
    {
     "name": "stdout",
     "output_type": "stream",
     "text": [
      "udah pas\n",
      "udah pas\n",
      "udah pas\n"
     ]
    }
   ],
   "source": [
    "var1 = int(input('masukkan angka 1-5:'))\n",
    "\n",
    "while var1 <= 5:\n",
    "    print('udah pas')\n",
    "    var1 = int(input('masukkan angka 1-5:'))\n",
    "    continue\n"
   ]
  },
  {
   "cell_type": "code",
   "execution_count": 8,
   "metadata": {},
   "outputs": [
    {
     "name": "stdout",
     "output_type": "stream",
     "text": [
      "0\n",
      "1\n",
      "2\n",
      "3\n",
      "4\n"
     ]
    }
   ],
   "source": [
    "listAngka = [1,2,3,4,5]\n",
    "\n",
    "\n",
    "for varAngka in range(11):\n",
    "    print(varAngka)\n",
    "\n",
    "    if varAngka > 3:\n",
    "        break"
   ]
  },
  {
   "cell_type": "markdown",
   "metadata": {},
   "source": [
    "## Function"
   ]
  },
  {
   "cell_type": "code",
   "execution_count": 9,
   "metadata": {},
   "outputs": [
    {
     "name": "stdout",
     "output_type": "stream",
     "text": [
      "pass\n"
     ]
    }
   ],
   "source": [
    "def addNumber(a, b):\n",
    "    var1 = a\n",
    "    var2 = b\n",
    "\n",
    "    return var1 + var2\n",
    "result = addNumber(10, 90)\n",
    "# print(result)\n",
    "\n",
    "if result > 50:\n",
    "    print('pass')\n",
    "else:\n",
    "    print('not pass')"
   ]
  },
  {
   "cell_type": "code",
   "execution_count": 5,
   "metadata": {},
   "outputs": [
    {
     "name": "stdout",
     "output_type": "stream",
     "text": [
      "None\n"
     ]
    }
   ],
   "source": [
    "print(result)"
   ]
  },
  {
   "cell_type": "code",
   "execution_count": 52,
   "metadata": {},
   "outputs": [
    {
     "name": "stdout",
     "output_type": "stream",
     "text": [
      "rey mysterio\n"
     ]
    }
   ],
   "source": [
    "def generateProfile(firstname, lastname):\n",
    "    fullName = firstname + \" \" + lastname\n",
    "\n",
    "    return fullName\n",
    "\n",
    "result = generateProfile(\"rey\", \"mysterio\")\n",
    "\n",
    "print(result)"
   ]
  },
  {
   "cell_type": "code",
   "execution_count": null,
   "metadata": {},
   "outputs": [],
   "source": []
  }
 ],
 "metadata": {
  "kernelspec": {
   "display_name": "base",
   "language": "python",
   "name": "python3"
  },
  "language_info": {
   "codemirror_mode": {
    "name": "ipython",
    "version": 3
   },
   "file_extension": ".py",
   "mimetype": "text/x-python",
   "name": "python",
   "nbconvert_exporter": "python",
   "pygments_lexer": "ipython3",
   "version": "3.9.19"
  }
 },
 "nbformat": 4,
 "nbformat_minor": 2
}
